{
 "cells": [
  {
   "cell_type": "code",
   "execution_count": 1,
   "id": "328aa09a",
   "metadata": {},
   "outputs": [],
   "source": [
    "import pandas as pd\n",
    "import random"
   ]
  },
  {
   "cell_type": "code",
   "execution_count": 3,
   "id": "33fe748d",
   "metadata": {},
   "outputs": [],
   "source": [
    "Top100 = pd.read_csv(\"../Hot_100.csv\")"
   ]
  },
  {
   "cell_type": "code",
   "execution_count": 4,
   "id": "a7d3993e",
   "metadata": {},
   "outputs": [],
   "source": [
    "Top100[\"song title\"] = Top100[\"song title\"].apply(lambda x: x.lower())\n",
    "Top100[\"artist name\"] = Top100[\"artist name\"].apply(lambda x: x.lower())"
   ]
  },
  {
   "cell_type": "code",
   "execution_count": 8,
   "id": "2d6f873f",
   "metadata": {},
   "outputs": [
    {
     "name": "stdout",
     "output_type": "stream",
     "text": [
      "Please,choose a song from the Hot_100: Rockstar\n",
      "Sorry, we cannot make any recommendations of this song yet. Try with another hot song or artist:\n",
      "Please,choose a song from the Hot_100: Enemy\n",
      "You may also like this song:  Fingers Crossed from Olivia Rodrigo\n",
      "Thanks for using the music recommender.\n"
     ]
    }
   ],
   "source": [
    "for song in Top100[[\"song title\",\"artist name\"]].iterrows():\n",
    "    user_choice = input(\"Please,choose a song from the Hot_100: \")\n",
    "    if user_choice.lower() in list(Top100[\"song title\"]):\n",
    "        random_song = random.choice(Top100[\"song title\"]).title()\n",
    "        song_artist = Top100.loc[Top100[\"song title\"] == random.choice(Top100[\"song title\"]), \"artist name\"].values[0]\n",
    "        \n",
    "        print(\"You may also like this song: \", random_song, \"from\", song_artist.title())\n",
    "        print(\"Thanks for using the music recommender.\")\n",
    "        break\n",
    "    elif user_choice.lower() in list(Top100[\"artist name\"]) or Top100[\"artist name\"].str.contains(user_choice).any():\n",
    "        print(\"You may also like this artist: \", random.choice(Top100[\"artist name\"]).title())\n",
    "        print(\"Thanks for using the music recommender.\")\n",
    "        break\n",
    "    elif user_choice not in Top100[[\"song title\",\"artist name\"]].iterrows():\n",
    "        print(\"Sorry, we cannot make any recommendations of this song yet. Try with another hot song or artist:\")\n",
    "        continue"
   ]
  }
 ],
 "metadata": {
  "kernelspec": {
   "display_name": "Python 3 (ipykernel)",
   "language": "python",
   "name": "python3"
  },
  "language_info": {
   "codemirror_mode": {
    "name": "ipython",
    "version": 3
   },
   "file_extension": ".py",
   "mimetype": "text/x-python",
   "name": "python",
   "nbconvert_exporter": "python",
   "pygments_lexer": "ipython3",
   "version": "3.9.7"
  }
 },
 "nbformat": 4,
 "nbformat_minor": 5
}
